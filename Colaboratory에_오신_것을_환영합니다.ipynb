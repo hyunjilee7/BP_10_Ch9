{
  "cells": [
    {
      "cell_type": "markdown",
      "metadata": {
        "id": "view-in-github",
        "colab_type": "text"
      },
      "source": [
        "<a href=\"https://colab.research.google.com/github/hyunjilee7/BP_10_Ch9/blob/main/Colaboratory%EC%97%90_%EC%98%A4%EC%8B%A0_%EA%B2%83%EC%9D%84_%ED%99%98%EC%98%81%ED%95%A9%EB%8B%88%EB%8B%A4.ipynb\" target=\"_parent\"><img src=\"https://colab.research.google.com/assets/colab-badge.svg\" alt=\"Open In Colab\"/></a>"
      ]
    },
    {
      "cell_type": "code",
      "source": [
        "alist = []\n",
        "sum = 0\n",
        "for i in range(5):                        #for문으로 :밑의 함수를 괄호 안의 수만큼 반복한다.\n",
        "  i = int(input(\"정수를 입력하시오: \"))   #int문으로 괄호안의 값을 정수로 받는다. input문으로 사용자에게 값을 받는다.\n",
        "  alist.append(i)                         #append문으로 리스트를 추가한다\n",
        "for i in alist:\n",
        "  sum += i                                #+=는 +1=의 축약으로 sum의 값을 늘린다.\n",
        "avg = sum/len(alist)                      #len문으로 리스트의 길이를 계산한다.\n",
        "print(\"평균=\", avg)                       #print문으로 괄호 안의 값을 출력한다."
      ],
      "metadata": {
        "id": "8d6TQKYOZrs4",
        "outputId": "1cdfce5d-254c-43e0-cb6d-8d0ed4264ae9",
        "colab": {
          "base_uri": "https://localhost:8080/"
        }
      },
      "execution_count": 1,
      "outputs": [
        {
          "output_type": "stream",
          "name": "stdout",
          "text": [
            "정수를 입력하시오: 10\n",
            "정수를 입력하시오: 20\n",
            "정수를 입력하시오: 30\n",
            "정수를 입력하시오: 40\n",
            "정수를 입력하시오: 50\n",
            "평균= 30.0\n"
          ]
        }
      ]
    },
    {
      "cell_type": "code",
      "source": [
        "import random                                                 #random함수를 불러온다.\n",
        "counters = [0, 0, 0, 0, 0, 0]\n",
        "for i in range(1000):                                         #:밑의 함수를 괄호 안의 수만큼 반복한다.\n",
        "  value = random.randint(0, 5)                                #괄호 안의 숫자 두개 사이의 값을 랜덤으로 뽑는다.\n",
        "  counters[value] = counters[value] + 1\n",
        "\n",
        "for i in range(6) :\n",
        "  print(\"주사위가 \", i+1, \"인 경우는 \", counters[i], \"번\")    #print문으로 괄호 안의 값을 출력한다."
      ],
      "metadata": {
        "id": "6f66owp9n-IG",
        "outputId": "07eedfbe-1572-4019-8100-11c9914ab395",
        "colab": {
          "base_uri": "https://localhost:8080/"
        }
      },
      "execution_count": 2,
      "outputs": [
        {
          "output_type": "stream",
          "name": "stdout",
          "text": [
            "주사위가  1 인 경우는  162 번\n",
            "주사위가  2 인 경우는  174 번\n",
            "주사위가  3 인 경우는  173 번\n",
            "주사위가  4 인 경우는  159 번\n",
            "주사위가  5 인 경우는  158 번\n",
            "주사위가  6 인 경우는  174 번\n"
          ]
        }
      ]
    },
    {
      "cell_type": "code",
      "source": [
        "contacts = { }\n",
        "while True:                                                        #while문의 조건문이 true면 밑의 함수를 수행한다.\n",
        "  name = input(\"(입력모드)이름을 입력하시오: \")                    #input문으로 사용자에게 값을 받는다.\n",
        "  if not name:                                                     #if문의 조건이 성사하지 않을 경우\n",
        "    break;                                                         #무시한다.\n",
        "  tel = input(\"전화번호를 입력하시오: \")\n",
        "  contacts[name] = tel\n",
        "while True:\n",
        "  name = input(\"(검색모드)이름을 입력하시오: \")\n",
        "  if not name:\n",
        "    break;\n",
        "  if name in contacts :                                            #검색모드의 입력된 값의 전화번호정보를 입력되도록 함수를 수행한다.\n",
        "    print(name, \"의 전화번호는\", contacts[name], \"입니다.\")        #print문으로 괄호 안의 값을 출력한다."
      ],
      "metadata": {
        "id": "cwS2sp75qFhr",
        "outputId": "a795938c-6894-4cef-cb22-cb975bb7503f",
        "colab": {
          "base_uri": "https://localhost:8080/"
        }
      },
      "execution_count": null,
      "outputs": [
        {
          "output_type": "stream",
          "name": "stdout",
          "text": [
            "(입력모드)이름을 입력하시오: 이현지\n",
            "전화번호를 입력하시오: 01094224626\n",
            "(입력모드)이름을 입력하시오: \n",
            "(검색모드)이름을 입력하시오: 이현지\n",
            "이현지 의 전화번호는 01094224626 입니다.\n"
          ]
        }
      ]
    }
  ],
  "metadata": {
    "colab": {
      "name": "Colaboratory에 오신 것을 환영합니다",
      "toc_visible": true,
      "provenance": [],
      "include_colab_link": true
    },
    "kernelspec": {
      "display_name": "Python 3",
      "name": "python3"
    }
  },
  "nbformat": 4,
  "nbformat_minor": 0
}